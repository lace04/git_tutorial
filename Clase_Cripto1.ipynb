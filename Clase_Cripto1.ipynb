{
  "nbformat": 4,
  "nbformat_minor": 0,
  "metadata": {
    "colab": {
      "provenance": [],
      "authorship_tag": "ABX9TyM8lIdXvxiz/41uF2u5G7/S"
    },
    "kernelspec": {
      "name": "python3",
      "display_name": "Python 3"
    },
    "language_info": {
      "name": "python"
    }
  },
  "cells": [
    {
      "cell_type": "markdown",
      "source": [
        "Punto 1"
      ],
      "metadata": {
        "id": "7NBszUc8gpjU"
      }
    },
    {
      "cell_type": "markdown",
      "source": [
        "Escriba un programa que pueda realizar un ataque de frecuencia de letras en cualquier cifrado de sustitución monoalfabético sin intervención humana. Su software debería producir posibles textos planos en orden aproximado de probabilidad. Sería bueno si su interfaz de usuario permitiera al usuario especificar \"dame el texto sin formato más alto posible\" implementar para idioma español"
      ],
      "metadata": {
        "id": "ljZ83wdfXPYm"
      }
    },
    {
      "cell_type": "markdown",
      "source": [
        "Opcion 1"
      ],
      "metadata": {
        "id": "oI4LmOMRV6-G"
      }
    },
    {
      "cell_type": "code",
      "source": [
        "import string\n",
        "from collections import Counter\n",
        "\n",
        "# Tabla de frecuencias de letras en español\n",
        "frecuencias_espanol = {\n",
        "    'E': 13.68, 'A': 12.53, 'O': 8.68, 'S': 7.98, 'N': 6.71, 'R': 6.87,\n",
        "    'I': 6.25, 'L': 4.97, 'D': 5.01, 'T': 4.63, 'U': 2.93, 'C': 4.02,\n",
        "    'M': 3.15, 'P': 2.51, 'B': 1.49, 'G': 1.01, 'V': 1.11, 'Y': 1.09,\n",
        "    'Q': 0.92, 'H': 0.70, 'F': 0.69, 'Z': 0.47, 'J': 0.44, 'X': 0.21,\n",
        "    'W': 0.01, 'K': 0.02\n",
        "}\n",
        "\n",
        "# Tabla de frecuencias de símbolos en español\n",
        "simbolos_espanol = {\n",
        "    '.': 0.22, ',': 0.18, '?': 0.06, '¡': 0.03, '¿': 0.03,\n",
        "    ' ': 17.02, 'á': 0.79, 'é': 0.79, 'í': 0.79, 'ó': 0.79, 'ú': 0.79,\n",
        "    'ñ': 0.28, 'ü': 0.06, 'ü': 0.06\n",
        "}\n",
        "\n",
        "\"\"\"\n",
        "Qué tan a menudo aparece cada letra en un texto en español. Por ejemplo,\n",
        "el número 12.53 junto a la letra ‘E’ significa que ‘E’ es la letra más común en\n",
        "el español y aparece, en promedio, el 12.53% de las veces. De manera similar,\n",
        "‘A’ es la segunda letra más común y aparece el 11.72% de las veces, y así\n",
        "sucesivamente para las demás letras.\n",
        "\n",
        "Estas frecuencias se utilizan en el descifrado de textos cifrados con un cifrado\n",
        "de sustitución monoalfabético. La idea es que si una letra aparece muy a menudo\n",
        "en el texto cifrado, es probable que se corresponda con una de las letras más\n",
        "frecuentes en español (como ‘E’ o ‘A’).\n",
        "\"\"\"\n",
        "\n",
        "def frecuencia(letra, texto):\n",
        "  \"\"\"\n",
        "  Calcula la probabilidad de que la letra \"letra\" aparezca en el texto \"texto\".\n",
        "\n",
        "  Args:\n",
        "    letra: La letra que se desea calcular la probabilidad.\n",
        "    texto: El texto en el que se desea calcular la probabilidad.\n",
        "\n",
        "  Returns:\n",
        "    La probabilidad de que la letra \"letra\" aparezca en el texto \"texto\".\n",
        "  \"\"\"\n",
        "\n",
        "  frecuencia = texto.count(letra)\n",
        "  total = len(texto)\n",
        "  return frecuencia / total\n",
        "\n",
        "def ataque_frecuencia(cifrado):\n",
        "    # Contar la frecuencia de cada letra en el texto cifrado\n",
        "    contador = Counter(cifrado.upper())\n",
        "    total = sum(contador.values())\n",
        "\n",
        "    # Calcular la frecuencia de cada letra en el texto cifrado\n",
        "    frecuencias_cifrado = {letra: (frecuencia / total) * 100 for letra, frecuencia in contador.items()}\n",
        "\n",
        "    # Ordenar las letras por frecuencia\n",
        "    letras_ordenadas = sorted(frecuencias_espanol.keys(), key=frecuencias_espanol.get, reverse=True)\n",
        "    letras_cifrado_ordenadas = sorted(frecuencias_cifrado.keys(), key=frecuencias_cifrado.get, reverse=True)\n",
        "\n",
        "    # Crear un mapeo de letras cifradas a letras en español basado en la frecuencia\n",
        "    mapeo = {letras_cifrado_ordenadas[i]: letras_ordenadas[i] for i in range(len(letras_cifrado_ordenadas))}\n",
        "\n",
        "    # Descifrar el texto\n",
        "    descifrado = ''.join(mapeo.get(letra, letra) for letra in cifrado.upper())\n",
        "\n",
        "    return descifrado\n",
        "\n",
        "cifrado = \"EJEMPLO DE CIFRADO\"\n",
        "print(ataque_frecuencia(cifrado))\n"
      ],
      "metadata": {
        "colab": {
          "base_uri": "https://localhost:8080/"
        },
        "id": "_RbVUH1tRSuu",
        "outputId": "ae43bb11-d96a-48e2-a283-da974e71b5a2"
      },
      "execution_count": 47,
      "outputs": [
        {
          "output_type": "stream",
          "name": "stdout",
          "text": [
            "ERENIDAOSEOLTCMUSA\n"
          ]
        }
      ]
    },
    {
      "cell_type": "markdown",
      "source": [
        "Opcion 2"
      ],
      "metadata": {
        "id": "CNBi4gqMV823"
      }
    },
    {
      "cell_type": "code",
      "source": [
        "def printString(S, N):\n",
        "    # Almacena las 5 posibles secuencias descifradas finales\n",
        "    plaintext = [None] * 5\n",
        "\n",
        "    # Almacena la frecuencia de cada letra en el texto cifrado\n",
        "    freq = [0] * 27  # 27 letras en el alfabeto español (incluyendo 'Ñ')\n",
        "\n",
        "    # Almacena la frecuencia de cada letra en el texto cifrado en orden descendente\n",
        "    freqSorted = [None] * 27\n",
        "\n",
        "    # Almacena qué letras ya se han utilizado\n",
        "    used = [0] * 27\n",
        "\n",
        "    # Recorre la cadena S\n",
        "    for i in range(N):\n",
        "        if S[i] != ' ':\n",
        "            char_idx = ord(S[i]) - 65\n",
        "            if char_idx == 14:  # Carácter 'Ñ'\n",
        "                char_idx = 26  # Usar 26 para representar 'Ñ'\n",
        "            freq[char_idx] += 1\n",
        "\n",
        "    # Copia el arreglo de frecuencias\n",
        "    for i in range(27):\n",
        "        freqSorted[i] = freq[i]\n",
        "\n",
        "    # Almacena la cadena formada al concatenar las letras en español\n",
        "    # en orden descendente de frecuencia en el idioma español\n",
        "    T = \"AEONI\"\n",
        "\n",
        "    # Ordena el arreglo en orden descendente\n",
        "    freqSorted.sort(reverse=True)\n",
        "\n",
        "    # Itera en el rango [0, 5]\n",
        "    for i in range(5):\n",
        "        ch = -1\n",
        "\n",
        "        # Itera en el rango [0, 27]\n",
        "        for j in range(27):\n",
        "            if freqSorted[i] == freq[j] and used[j] == 0:\n",
        "                used[j] = 1\n",
        "                ch = j\n",
        "                break\n",
        "\n",
        "        if ch == -1:\n",
        "            break\n",
        "\n",
        "        # Almacena el equivalente numérico de la letra en el índice i del arreglo T\n",
        "        x = ord(T[i]) - 65\n",
        "\n",
        "        # Calcula el desplazamiento probable utilizado en el cifrado monoalfabético\n",
        "        x = x - ch\n",
        "\n",
        "        # Cadena temporal para generar una secuencia cifrada posible\n",
        "        curr = \"\"\n",
        "\n",
        "        # Genera la secuencia cifrada posible i-ésima utilizando el desplazamiento calculado anteriormente\n",
        "        for k in range(N):\n",
        "\n",
        "            # Inserta espacios en blanco tal como están\n",
        "            if S[k] == ' ':\n",
        "                curr += \" \"\n",
        "                continue\n",
        "\n",
        "            # Desplaza la k-ésima letra del cifrado por x\n",
        "            y = ord(S[k]) - 65\n",
        "            y += x\n",
        "\n",
        "            if y < 0:\n",
        "                y += 27  # Realiza un ciclo para 'Ñ'\n",
        "            if y > 26:\n",
        "                y -= 27  # Realiza un ciclo para 'Ñ'\n",
        "\n",
        "            # Agrega la k-ésima letra calculada/desplazada a la cadena temporal\n",
        "            if y == 26:  # 'Ñ'\n",
        "                curr += \"Ñ\"\n",
        "            else:\n",
        "                curr += chr(y + 65)\n",
        "\n",
        "        plaintext[i] = curr\n",
        "\n",
        "    # Imprime las 5 posibles secuencias descifradas generadas\n",
        "    for i in range(5):\n",
        "        print(plaintext[i])\n",
        "\n",
        "# Código principal\n",
        "\n",
        "# Cadena dada\n",
        "S = \"B TJNQMF VFTTBHF\"\n",
        "N = len(S)\n",
        "\n",
        "# Llamada a la función\n",
        "printString(S, N)\n"
      ],
      "metadata": {
        "colab": {
          "base_uri": "https://localhost:8080/"
        },
        "id": "e94vGrZpV3vA",
        "outputId": "e4e0c51a-cf1e-48dd-843e-33f66dd8646c"
      },
      "execution_count": 48,
      "outputs": [
        {
          "output_type": "stream",
          "name": "stdout",
          "text": [
            "X OEILHA QAOOXCA\n",
            "N EVZBYR GREENTR\n",
            "O FWÑCZS HSFFOUS\n",
            "H ZPTWSL ALZZHNL\n",
            "A SIMPLE UESSAGE\n"
          ]
        }
      ]
    },
    {
      "cell_type": "markdown",
      "source": [
        "Opcion 3"
      ],
      "metadata": {
        "id": "LsPFagMXXHOW"
      }
    },
    {
      "cell_type": "code",
      "source": [
        "import string\n",
        "from collections import Counter\n",
        "\n",
        "# Frecuencias de las letras en español\n",
        "frecuencias_espanol = {\n",
        "    'E': 12.53, 'A': 11.72, 'O': 8.44, 'S': 7.88, 'N': 6.83,\n",
        "    'R': 6.41, 'I': 5.28, 'L': 4.97, 'D': 4.67, 'T': 4.60,\n",
        "    'C': 3.87, 'U': 2.93, 'M': 2.58, 'P': 2.11, 'B': 1.49,\n",
        "    'G': 1.19, 'V': 1.05, 'Y': 1.01, 'Q': 0.92, 'H': 0.70,\n",
        "    'F': 0.69, 'Z': 0.47, 'J': 0.44, 'X': 0.14, 'W': 0.02,\n",
        "    'K': 0.02\n",
        "}\n",
        "\n",
        "def descifrar(texto_cifrado):\n",
        "    # Contamos la frecuencia de las letras en el texto cifrado\n",
        "    contador = Counter(texto_cifrado.upper())\n",
        "    # Convertimos el contador a un diccionario de conteo\n",
        "    diccionario_de_conteo = dict(contador)\n",
        "    # Ordenamos las letras del texto cifrado por su frecuencia\n",
        "    letras_ordenadas = sorted(diccionario_de_conteo.items(), key=lambda x: x[1], reverse=True)\n",
        "\n",
        "    # Creamos un diccionario para mapear las letras del texto cifrado a las del español\n",
        "    mapa = {}\n",
        "\n",
        "    # Asignamos a cada letra del texto cifrado la letra correspondiente en español\n",
        "    for i in range(len(letras_ordenadas)):\n",
        "        letra_texto_cifrado = letras_ordenadas[i][0]\n",
        "        letra_espanol = list(frecuencias_espanol.keys())[i]\n",
        "        mapa[letra_texto_cifrado] = letra_espanol\n",
        "\n",
        "    # Desciframos el texto\n",
        "    texto_descifrado = \"\"\n",
        "    for letra in texto_cifrado.upper():\n",
        "        if letra in string.ascii_uppercase:\n",
        "            texto_descifrado += mapa[letra]\n",
        "        else:\n",
        "            texto_descifrado += letra\n",
        "\n",
        "    return texto_descifrado\n",
        "\n",
        "# Prueba el descifrador con un texto cifrado\n",
        "texto_cifrado = \"LINEAPROFUNDIZACIONño\"\n",
        "print(descifrar(texto_cifrado))\n"
      ],
      "metadata": {
        "colab": {
          "base_uri": "https://localhost:8080/"
        },
        "id": "FX8Zf5aBWeOo",
        "outputId": "0033be80-66a1-46b7-cccf-c42a80b148b5"
      },
      "execution_count": 52,
      "outputs": [
        {
          "output_type": "stream",
          "name": "stdout",
          "text": [
            "NEARSILODTACEUSMEOAÑO\n"
          ]
        }
      ]
    },
    {
      "cell_type": "markdown",
      "source": [
        "Punto 2"
      ],
      "metadata": {
        "id": "_sqX_9hoXKd2"
      }
    },
    {
      "cell_type": "markdown",
      "source": [
        "Cree software que pueda realizar un ataque rápido de texto plano conocido en un cifrado Hill, dada la dimensión m. ¿Qué tan rápidos son sus algoritmos, en función de m?"
      ],
      "metadata": {
        "id": "_6D1LSVgZ4oB"
      }
    },
    {
      "cell_type": "markdown",
      "source": [
        "Opcion 1"
      ],
      "metadata": {
        "id": "pyfuy0-HaE2S"
      }
    },
    {
      "cell_type": "code",
      "source": [
        "import numpy as np\n",
        "import time\n",
        "\n",
        "# Función para calcular el inverso modular\n",
        "def inverso_modulo(a, m):\n",
        "    # Algoritmo extendido de Euclides para encontrar el inverso modular\n",
        "    m0, x0, x1 = m, 0, 1\n",
        "    while a > 1:\n",
        "        q = a // m\n",
        "        m, a = a % m, m\n",
        "        x0, x1 = x1 - q * x0, x0\n",
        "    return x1 + m0 if x1 < 0 else x1\n",
        "\n",
        "# Función para descifrar el texto cifrado usando el cifrado Hill\n",
        "def descifrar_hill(ciphertext, matriz_clave, m):\n",
        "    # Calcular el inverso modular del determinante de la matriz clave\n",
        "    det = np.linalg.det(matriz_clave)\n",
        "    det_inv = inverso_modulo(int(det) % 26, 26)\n",
        "\n",
        "    # Calcular la adjunta de la matriz clave\n",
        "    adjunta = np.round(det_inv * np.linalg.inv(matriz_clave)).astype(int)\n",
        "\n",
        "    # Calcular el inverso modular de cada elemento de la matriz adjunta\n",
        "    adjunta_inversa = np.zeros_like(adjunta)\n",
        "    for i in range(m):\n",
        "        for j in range(m):\n",
        "            adjunta_inversa[i][j] = inverso_modulo(adjunta[i][j], 26)\n",
        "\n",
        "    # Descifrar el texto cifrado\n",
        "    texto_plano = \"\"\n",
        "    for i in range(0, len(ciphertext), m):\n",
        "        segmento = ciphertext[i:i+m]\n",
        "        segmento_vec = np.array([ord(char) - ord('A') for char in segmento])\n",
        "        segmento_descifrado_vec = np.dot(adjunta_inversa, segmento_vec) % 26\n",
        "        segmento_descifrado = ''.join([chr(val + ord('A')) for val in segmento_descifrado_vec])\n",
        "        texto_plano += segmento_descifrado\n",
        "\n",
        "    return texto_plano\n",
        "\n",
        "# Ejemplo de uso\n",
        "m = 2  # Establecer la dimensión 'm'\n",
        "ciphertext = \"KP\"  # Reemplazar con tu texto cifrado\n",
        "\n",
        "# Definir los pares de texto en claro y texto cifrado conocidos\n",
        "known_pairs = [(\"HI\", \"KP\"), (\"AB\", \"CF\"), (\"CD\", \"EF\")]  # Agregar más si están disponibles\n",
        "\n",
        "# Inicializar una matriz clave vacía de tamaño m x m\n",
        "matriz_clave = np.zeros((m, m), dtype=int)\n",
        "\n",
        "# Extraer los pares de texto en claro y texto cifrado conocidos\n",
        "for i in range(m):\n",
        "    texto_claro, texto_cifrado = known_pairs[i]\n",
        "    matriz_texto_claro = np.array([[ord(char) - ord('A') for char in texto_claro],\n",
        "                                  [ord(char) - ord('A') for char in texto_cifrado]])\n",
        "\n",
        "    matriz_clave[:, i] = np.array([ord(char) - ord('A') for char in texto_cifrado])\n",
        "\n",
        "# Medir el tiempo de ejecución\n",
        "inicio_tiempo = time.time()\n",
        "\n",
        "# Descifrar el texto cifrado usando la matriz clave calculada\n",
        "texto_descifrado = descifrar_hill(ciphertext, matriz_clave, m)\n",
        "\n",
        "# Calcular el tiempo transcurrido\n",
        "fin_tiempo = time.time()\n",
        "tiempo_transcurrido = fin_tiempo - inicio_tiempo\n",
        "\n",
        "print(\"Texto Descifrado:\", texto_descifrado)\n",
        "print(f\"Tiempo de ejecución: {tiempo_transcurrido} segundos\")\n"
      ],
      "metadata": {
        "colab": {
          "base_uri": "https://localhost:8080/"
        },
        "id": "ioBcoWk4aF-x",
        "outputId": "3f4df831-f0bf-4433-bfd5-759493e52a7b"
      },
      "execution_count": 54,
      "outputs": [
        {
          "output_type": "stream",
          "name": "stdout",
          "text": [
            "Texto Descifrado: BX\n",
            "Tiempo de ejecución: 0.0025529861450195312 segundos\n"
          ]
        },
        {
          "output_type": "stream",
          "name": "stderr",
          "text": [
            "<ipython-input-54-70355af048a8>:9: RuntimeWarning: divide by zero encountered in long_scalars\n",
            "  q = a // m\n",
            "<ipython-input-54-70355af048a8>:10: RuntimeWarning: divide by zero encountered in long_scalars\n",
            "  m, a = a % m, m\n"
          ]
        }
      ]
    },
    {
      "cell_type": "markdown",
      "source": [
        "Opcion 2"
      ],
      "metadata": {
        "id": "lHDpyttYdvDw"
      }
    },
    {
      "cell_type": "code",
      "source": [
        "import numpy as np\n",
        "import time\n",
        "\n",
        "# Función para calcular el inverso modular\n",
        "def inverso_modulo(a, m):\n",
        "    # Algoritmo extendido de Euclides para encontrar el inverso modular\n",
        "    m0, x0, x1 = m, 0, 1\n",
        "    while a > 1:\n",
        "        q = a // m\n",
        "        m, a = a % m, m\n",
        "        x0, x1 = x1 - q * x0, x0\n",
        "    return x1 + m0 if x1 < 0 else x1\n",
        "\n",
        "# Función para descifrar el texto cifrado usando el cifrado Hill\n",
        "def descifrar_hill(ciphertext, matriz_clave, m):\n",
        "    # Calcular el inverso modular del determinante de la matriz clave\n",
        "    det = np.linalg.det(matriz_clave)\n",
        "    det_inv = inverso_modulo(int(det) % 26, 26)\n",
        "\n",
        "    # Calcular la adjunta de la matriz clave\n",
        "    adjunta = np.round(det_inv * np.linalg.inv(matriz_clave)).astype(int)\n",
        "\n",
        "    # Calcular el inverso modular de cada elemento de la matriz adjunta\n",
        "    adjunta_inversa = np.linalg.inv(adjunta) % 26\n",
        "\n",
        "    # Descifrar el texto cifrado\n",
        "    texto_plano = \"\"\n",
        "    for i in range(0, len(ciphertext), m):\n",
        "        segmento = ciphertext[i:i+m]\n",
        "        segmento_vec = np.array([ord(char) - ord('A') for char in segmento])\n",
        "        segmento_descifrado_vec = np.matmul(adjunta_inversa, segmento_vec).astype(int) % 26\n",
        "        segmento_descifrado = ''.join([chr(val + ord('A')) for val in segmento_descifrado_vec])\n",
        "        texto_plano += segmento_descifrado\n",
        "\n",
        "    return texto_plano\n",
        "\n",
        "# Ejemplo de uso\n",
        "m = 2  # Establecer la dimensión 'm'\n",
        "ciphertext = \"KP\"  # Reemplazar con tu texto cifrado\n",
        "\n",
        "# Definir los pares de texto en claro y texto cifrado conocidos\n",
        "known_pairs = [(\"HI\", \"KP\"), (\"AB\", \"CF\"), (\"CD\", \"EF\")]  # Agregar más si están disponibles\n",
        "\n",
        "# Inicializar una matriz clave vacía de tamaño m x m\n",
        "matriz_clave = np.zeros((m, m), dtype=int)\n",
        "\n",
        "# Extraer los pares de texto en claro y texto cifrado conocidos\n",
        "for i in range(m):\n",
        "    texto_claro, texto_cifrado = known_pairs[i]\n",
        "    matriz_texto_claro = np.array([[ord(char) - ord('A') for char in texto_claro],\n",
        "                                  [ord(char) - ord('A') for char in texto_cifrado]])\n",
        "\n",
        "    matriz_clave[:, i] = np.array([ord(char) - ord('A') for char in texto_cifrado])\n",
        "\n",
        "# Medir el tiempo de ejecución\n",
        "inicio_tiempo = time.time()\n",
        "\n",
        "# Descifrar el texto cifrado usando la matriz clave calculada\n",
        "texto_descifrado = descifrar_hill(ciphertext, matriz_clave, m)\n",
        "\n",
        "# Calcular el tiempo transcurrido\n",
        "fin_tiempo = time.time()\n",
        "tiempo_transcurrido = fin_tiempo - inicio_tiempo\n",
        "\n",
        "print(\"Texto Descifrado:\", texto_descifrado)\n",
        "print(f\"Tiempo de ejecución: {tiempo_transcurrido} segundos\")\n"
      ],
      "metadata": {
        "colab": {
          "base_uri": "https://localhost:8080/"
        },
        "id": "VAfdAlLAdwKH",
        "outputId": "4eb85c95-c2d5-4959-837a-e2186549be1f"
      },
      "execution_count": 56,
      "outputs": [
        {
          "output_type": "stream",
          "name": "stdout",
          "text": [
            "Texto Descifrado: HM\n",
            "Tiempo de ejecución: 0.0005326271057128906 segundos\n"
          ]
        }
      ]
    },
    {
      "cell_type": "markdown",
      "source": [
        "El tiempo de ejecución de tu algoritmo depende de la dimensión de la clave y del número de pares de texto plano conocido-cifrado. En general, el tiempo de ejecución del algoritmo es O(m^4)."
      ],
      "metadata": {
        "id": "QJSqibNpdcPA"
      }
    },
    {
      "cell_type": "markdown",
      "source": [
        "Punto 3"
      ],
      "metadata": {
        "id": "imLLbFvdej-P"
      }
    },
    {
      "cell_type": "markdown",
      "source": [
        "Escriba un algoritmo para el cifrado one-time pad, donde cada palabra del\n",
        "alfabeto se traduce a binario (8 bits)."
      ],
      "metadata": {
        "id": "sYi3XDnhfbHz"
      }
    },
    {
      "cell_type": "code",
      "source": [
        "import os\n",
        "import binascii\n",
        "\n",
        "def texto_a_bits(texto):\n",
        "    # Convierte el texto a binario\n",
        "    return bin(int(binascii.hexlify(texto.encode('utf-8')), 16))[2:]\n",
        "\n",
        "def bits_a_texto(bits):\n",
        "    # Convierte el binario a texto\n",
        "    return binascii.unhexlify('%x' % int('0b'+bits, 2)).decode('utf-8')\n",
        "\n",
        "def generar_clave(longitud):\n",
        "    # Genera una clave binaria aleatoria de la longitud dada\n",
        "    return bin(int.from_bytes(os.urandom(longitud), byteorder='big'))[2:]\n",
        "\n",
        "def xor_bits(bits1, bits2):\n",
        "    # Realiza el XOR de dos cadenas binarias\n",
        "    return ''.join(str(int(b1) ^ int(b2)) for b1, b2 in zip(bits1, bits2))\n",
        "\n",
        "def one_time_pad_encrypt(mensaje):\n",
        "    # Convierte el mensaje a binario\n",
        "    mensaje_bits = texto_a_bits(mensaje)\n",
        "\n",
        "    # Genera una clave de la misma longitud que el mensaje\n",
        "    clave = generar_clave(len(mensaje_bits))\n",
        "\n",
        "    # Realiza el XOR del mensaje con la clave para obtener el texto cifrado\n",
        "    ciphertext_bits = xor_bits(mensaje_bits, clave)\n",
        "\n",
        "    return ciphertext_bits, clave\n",
        "\n",
        "def one_time_pad_decrypt(ciphertext_bits, clave):\n",
        "    # Realiza el XOR del texto cifrado con la clave para obtener el mensaje original\n",
        "    mensaje_bits = xor_bits(ciphertext_bits, clave)\n",
        "\n",
        "    # Convierte el mensaje binario de vuelta a texto\n",
        "    return bits_a_texto(mensaje_bits)\n",
        "\n",
        "# Ejemplo de uso:\n",
        "mensaje = 'Hola, mundo!'\n",
        "ciphertext_bits, key = one_time_pad_encrypt(mensaje)\n",
        "print('Texto cifrado:', ciphertext_bits)\n",
        "decrypted_message = one_time_pad_decrypt(ciphertext_bits, key)\n",
        "print('Mensaje descifrado:', decrypted_message)\n"
      ],
      "metadata": {
        "colab": {
          "base_uri": "https://localhost:8080/"
        },
        "id": "WRU6p7CQek_O",
        "outputId": "a5506eda-0b4c-4f95-bbf8-9f4b40f18400"
      },
      "execution_count": 57,
      "outputs": [
        {
          "output_type": "stream",
          "name": "stdout",
          "text": [
            "Texto cifrado: 01100000100001011010000100000101001001101111001001111110111110010010001011010000011100000100010\n",
            "Mensaje descifrado: Hola, mundo!\n"
          ]
        }
      ]
    },
    {
      "cell_type": "markdown",
      "source": [
        "Opcion 2"
      ],
      "metadata": {
        "id": "msU4ovh0fQoG"
      }
    },
    {
      "cell_type": "code",
      "source": [
        "import os\n",
        "import random\n",
        "\n",
        "def text_to_binary(text):\n",
        "    # Convierte un texto en binario de 8 bits por carácter\n",
        "    binary_text = \"\"\n",
        "    for char in text:\n",
        "        binary_char = format(ord(char), '08b')  # Convierte el carácter en binario de 8 bits\n",
        "        binary_text += binary_char\n",
        "    return binary_text\n",
        "\n",
        "def binary_to_text(binary_text):\n",
        "    # Convierte un texto binario de 8 bits por carácter a texto\n",
        "    text = \"\"\n",
        "    for i in range(0, len(binary_text), 8):\n",
        "        binary_char = binary_text[i:i+8]\n",
        "        char = chr(int(binary_char, 2))  # Convierte el binario en carácter\n",
        "        text += char\n",
        "    return text\n",
        "\n",
        "def generate_key(length):\n",
        "    # Genera una clave aleatoria de 8 bits por carácter\n",
        "    key = \"\"\n",
        "    for _ in range(length):\n",
        "        key += format(random.randint(0, 255), '08b')  # Genera un byte aleatorio y lo convierte a binario\n",
        "    return key\n",
        "\n",
        "def one_time_pad_encrypt(message):\n",
        "    # Convierte el mensaje en binario de 8 bits por carácter\n",
        "    message_bits = text_to_binary(message)\n",
        "\n",
        "    # Genera una clave de la misma longitud que el mensaje\n",
        "    key = generate_key(len(message_bits))\n",
        "\n",
        "    # Realiza la operación XOR entre el mensaje binario y la clave para obtener el cifrado\n",
        "    ciphertext_bits = ''.join(str(int(m) ^ int(k)) for m, k in zip(message_bits, key))\n",
        "\n",
        "    return ciphertext_bits, key\n",
        "\n",
        "def one_time_pad_decrypt(ciphertext_bits, key):\n",
        "    # Realiza la operación XOR entre el texto cifrado binario y la clave para obtener el mensaje original en binario\n",
        "    message_bits = ''.join(str(int(c) ^ int(k)) for c, k in zip(ciphertext_bits, key))\n",
        "\n",
        "    # Convierte el mensaje binario de nuevo a texto\n",
        "    message = binary_to_text(message_bits)\n",
        "\n",
        "    return message\n",
        "\n",
        "# Ejemplo de uso:\n",
        "message = 'HELLO'\n",
        "ciphertext_bits, key = one_time_pad_encrypt(message)\n",
        "print('Texto en Claro:', message)\n",
        "print('Cifrado en Bits:', ciphertext_bits)\n",
        "decrypted_message = one_time_pad_decrypt(ciphertext_bits, key)\n",
        "print('Mensaje Descifrado:', decrypted_message)\n"
      ],
      "metadata": {
        "colab": {
          "base_uri": "https://localhost:8080/"
        },
        "id": "CvdZKqwNfQX8",
        "outputId": "bc7a797c-3148-4279-b4fc-3954784bba5f"
      },
      "execution_count": 58,
      "outputs": [
        {
          "output_type": "stream",
          "name": "stdout",
          "text": [
            "Texto en Claro: HELLO\n",
            "Cifrado en Bits: 1001100010111110001011000000100001010100\n",
            "Mensaje Descifrado: HELLO\n"
          ]
        }
      ]
    }
  ]
}